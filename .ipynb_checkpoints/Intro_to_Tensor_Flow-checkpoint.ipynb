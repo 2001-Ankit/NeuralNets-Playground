{
 "cells": [
  {
   "cell_type": "markdown",
   "id": "626d22d2",
   "metadata": {},
   "source": [
    "# Intro to TensorFlow and Music Generation with RNNs"
   ]
  },
  {
   "cell_type": "markdown",
   "id": "204b89e2",
   "metadata": {},
   "source": [
    "**Part 1: Intro to TensorFlow**"
   ]
  },
  {
   "cell_type": "markdown",
   "id": "084e497b",
   "metadata": {},
   "source": [
    "**0.1 Install TensorFlow**"
   ]
  },
  {
   "cell_type": "markdown",
   "id": "d44c7d3d",
   "metadata": {},
   "source": [
    "\n",
    "TensorFlow is a software library extensively used in machine learning.  \n",
    "Here we'll learn how computations are represented and how to define a simple neural network in TensorFlow."
   ]
  },
  {
   "cell_type": "code",
   "execution_count": 1,
   "id": "be850b35",
   "metadata": {},
   "outputs": [],
   "source": [
    "import tensorflow as tf\n",
    "\n",
    "# Download and import the MIT Introduction to Deep Learning package\n",
    "!pip install mitdeeplearning --quiet\n",
    "import mitdeeplearning as mdl\n",
    "\n",
    "import numpy as np\n",
    "import matplotlib.pyplot as plt"
   ]
  },
  {
   "cell_type": "markdown",
   "id": "25917586",
   "metadata": {},
   "source": [
    "# 1.1 Why is TensorFlow called TensorFlow?"
   ]
  },
  {
   "cell_type": "markdown",
   "id": "a05ee99f",
   "metadata": {},
   "source": [
    "TensorFlow is called 'TensorFlow' because it handles the flow (node/mathematical operation) of Tensors, which are data   structures that you can think of as multi-dimensional arrays. Tensors are represented as n-dimensional arrays of base dataypes   such as a string or integer -- they provide a way to generalize vectors and matrices to higher dimensions.  \n",
    "\n",
    "The shape of a Tensor defines its number of dimensions and the size of each dimension. The rank of a Tensor provides the number   of dimensions (n-dimensions) -- you can also think of this as the Tensor's order or degree.  "
   ]
  },
  {
   "cell_type": "code",
   "execution_count": 3,
   "id": "5b1b461b",
   "metadata": {},
   "outputs": [
    {
     "name": "stdout",
     "output_type": "stream",
     "text": [
      "`sport` is a 0-d Tensor\n",
      "`number` is a 0-d Tensor\n",
      "()\n"
     ]
    }
   ],
   "source": [
    "sport = tf.constant(\"Tennis\", tf.string)\n",
    "number = tf.constant(1.41421356237, tf.float64)\n",
    "\n",
    "print(\"`sport` is a {}-d Tensor\".format(tf.rank(sport).numpy()))\n",
    "print(\"`number` is a {}-d Tensor\".format(tf.rank(number).numpy()))\n",
    "print(sport.shape)\n",
    "     "
   ]
  },
  {
   "cell_type": "code",
   "execution_count": null,
   "id": "111b4d41",
   "metadata": {},
   "outputs": [],
   "source": []
  }
 ],
 "metadata": {
  "kernelspec": {
   "display_name": "Python 3 (ipykernel)",
   "language": "python",
   "name": "python3"
  },
  "language_info": {
   "codemirror_mode": {
    "name": "ipython",
    "version": 3
   },
   "file_extension": ".py",
   "mimetype": "text/x-python",
   "name": "python",
   "nbconvert_exporter": "python",
   "pygments_lexer": "ipython3",
   "version": "3.10.4"
  }
 },
 "nbformat": 4,
 "nbformat_minor": 5
}
