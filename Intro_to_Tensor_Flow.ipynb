{
 "cells": [
  {
   "cell_type": "markdown",
   "id": "e06bb05e",
   "metadata": {},
   "source": [
    "# Intro to TensorFlow and Music Generation with RNNs"
   ]
  },
  {
   "cell_type": "markdown",
   "id": "fc83f23f",
   "metadata": {},
   "source": [
    "**Part 1: Intro to TensorFlow**"
   ]
  },
  {
   "cell_type": "markdown",
   "id": "ecf05b36",
   "metadata": {},
   "source": [
    "**0.1 Install TensorFlow**"
   ]
  },
  {
   "cell_type": "markdown",
   "id": "be59ed98",
   "metadata": {},
   "source": [
    "\n",
    "TensorFlow is a software library extensively used in machine learning.  \n",
    "Here we'll learn how computations are represented and how to define a simple neural network in TensorFlow."
   ]
  },
  {
   "cell_type": "code",
   "execution_count": 1,
   "id": "ad19acfa",
   "metadata": {},
   "outputs": [],
   "source": [
    "import tensorflow as tf\n",
    "\n",
    "# Download and import the MIT Introduction to Deep Learning package\n",
    "!pip install mitdeeplearning --quiet\n",
    "import mitdeeplearning as mdl\n",
    "\n",
    "import numpy as np\n",
    "import matplotlib.pyplot as plt"
   ]
  },
  {
   "cell_type": "markdown",
   "id": "c62a08ad",
   "metadata": {},
   "source": [
    "# 1.1 Why is TensorFlow called TensorFlow?"
   ]
  },
  {
   "cell_type": "markdown",
   "id": "09b24774",
   "metadata": {},
   "source": [
    "TensorFlow is called 'TensorFlow' because it handles the flow (node/mathematical operation) of Tensors, which are data   structures that you can think of as multi-dimensional arrays. Tensors are represented as n-dimensional arrays of base dataypes   such as a string or integer -- they provide a way to generalize vectors and matrices to higher dimensions.  \n",
    "\n",
    "The shape of a Tensor defines its number of dimensions and the size of each dimension. The rank of a Tensor provides the number   of dimensions (n-dimensions) -- you can also think of this as the Tensor's order or degree.  "
   ]
  },
  {
   "cell_type": "markdown",
   "id": "fcde23b0",
   "metadata": {},
   "source": [
    "Let's first look at 0-d Tensors, of which a scalar is an example:"
   ]
  },
  {
   "cell_type": "code",
   "execution_count": 3,
   "id": "0166a04f",
   "metadata": {},
   "outputs": [
    {
     "name": "stdout",
     "output_type": "stream",
     "text": [
      "`sport` is a 0-d Tensor\n",
      "`number` is a 0-d Tensor\n",
      "()\n"
     ]
    }
   ],
   "source": [
    "sport = tf.constant(\"Tennis\", tf.string)\n",
    "number = tf.constant(1.41421356237, tf.float64)\n",
    "\n",
    "print(\"`sport` is a {}-d Tensor\".format(tf.rank(sport).numpy()))\n",
    "print(\"`number` is a {}-d Tensor\".format(tf.rank(number).numpy()))\n",
    "print(sport.shape)\n",
    "     "
   ]
  },
  {
   "cell_type": "markdown",
   "id": "d9754431",
   "metadata": {},
   "source": [
    "Vectors and lists can be used to create 1-d Tensors:"
   ]
  },
  {
   "cell_type": "code",
   "execution_count": 4,
   "id": "25a63604",
   "metadata": {},
   "outputs": [
    {
     "name": "stdout",
     "output_type": "stream",
     "text": [
      "`sports` is a 1-d Tensor with shape: [2]\n",
      "`numbers` is a 1-d Tensor with shape: [3]\n"
     ]
    }
   ],
   "source": [
    "\n",
    "sports = tf.constant([\"Tennis\", \"Basketball\"], tf.string)\n",
    "numbers = tf.constant([3.141592, 1.414213, 2.71821], tf.float64)\n",
    "\n",
    "print(\"`sports` is a {}-d Tensor with shape: {}\".format(tf.rank(sports).numpy(), tf.shape(sports)))\n",
    "print(\"`numbers` is a {}-d Tensor with shape: {}\".format(tf.rank(numbers).numpy(), tf.shape(numbers)))\n",
    "     "
   ]
  },
  {
   "cell_type": "code",
   "execution_count": null,
   "id": "bdd92307",
   "metadata": {},
   "outputs": [],
   "source": []
  }
 ],
 "metadata": {
  "kernelspec": {
   "display_name": "Python 3 (ipykernel)",
   "language": "python",
   "name": "python3"
  },
  "language_info": {
   "codemirror_mode": {
    "name": "ipython",
    "version": 3
   },
   "file_extension": ".py",
   "mimetype": "text/x-python",
   "name": "python",
   "nbconvert_exporter": "python",
   "pygments_lexer": "ipython3",
   "version": "3.10.4"
  }
 },
 "nbformat": 4,
 "nbformat_minor": 5
}
